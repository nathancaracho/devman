{
 "cells": [
  {
   "cell_type": "markdown",
   "metadata": {},
   "source": [
    "<div style=\"text-align:center\">\n",
    "    <img src=\"https://imgix.bustle.com/uploads/image/2020/12/31/64c49003-0006-43c8-b2f6-04d712b41af0-screenshot-2020-12-31-at-153141.png?w=2000&h=640&fit=crop&crop=faces&auto=format%2Ccompress\"/>\n",
    "</div>"
   ]
  },
  {
   "cell_type": "markdown",
   "metadata": {
    "tags": []
   },
   "source": [
    "# `FSharp` para leigos e apressados (WIP)\n",
    "O CSharp do futuro  \n",
    "\n",
    "---\n",
    "FSharp é uma linguaguem de propósito geral, ***primeiramente funcional*** com uma sintaxe leve e pouco `ruídosa` faz com que o foco seja no problema e não em detalhes de sintaxe. "
   ]
  },
  {
   "cell_type": "markdown",
   "metadata": {
    "tags": []
   },
   "source": [
    "## `let`'s go \n",
    "A palavra chave `let` responsável pela associação de valores em variáveis em `FSharp` que são por padrão ***imutáveis***."
   ]
  },
  {
   "cell_type": "code",
   "execution_count": null,
   "metadata": {
    "dotnet_interactive": {
     "language": "fsharp"
    },
    "tags": []
   },
   "outputs": [],
   "source": [
    "let varable = 1\n",
    "printf \"se liga na variável: %i\" varable"
   ]
  },
  {
   "cell_type": "markdown",
   "metadata": {},
   "source": [
    "> ***Ponto importante ⚠ :***      \n",
    "O operador `=` só pode ser usado para a **primeira** atribuição de valores, caso a variável seja **mutável**, deve ser utilizado o operador `<-` que vamos chamar de *\"atribuídor\"*.  \n",
    "**Como sabemos se a variável é mutável?**  \n",
    "Pela palavra chave `mutable` na declaração da variável "
   ]
  },
  {
   "cell_type": "code",
   "execution_count": null,
   "metadata": {
    "dotnet_interactive": {
     "language": "fsharp"
    }
   },
   "outputs": [],
   "source": [
    "let mutable variableWithOne  = 1 \n",
    "variableWithOne <- 2\n",
    "printf \"se liga na variável: %i\" variableWithOne"
   ]
  },
  {
   "cell_type": "markdown",
   "metadata": {},
   "source": [
    "**Mas se tentarmos alterar uma variável que não é `mutável` o que acontece?**\n",
    "```txt\n",
    "Typecheck error This value is not mutable. Consider using the mutable keyword, e.g. \n",
    "'let mutable variavel = expression'.\n",
    "```"
   ]
  },
  {
   "cell_type": "code",
   "execution_count": null,
   "metadata": {
    "dotnet_interactive": {
     "language": "fsharp"
    }
   },
   "outputs": [],
   "source": [
    "let notMutableVariable = 13\n",
    "notMutableVariable <- 15"
   ]
  },
  {
   "cell_type": "markdown",
   "metadata": {
    "dotnet_interactive": {
     "language": "fsharp"
    }
   },
   "source": [
    "### Os tipos \n",
    "`FSharp` é uma linguágem estáticamente tipada, onde o compilador infere o tipo beseado no valor e possuí básicos como `int`, `decimal`, `string`, `bool` e um tipo especial o `unit`, que não tem equivalência com `C#`.  \n",
    "\n",
    ">**O que é o tipo unit?**  \n",
    "O tipo `unit` é utilizado como um tipo \"vazio\" e indica a ausência de um valor real, normalmente utilizado em funções que nâo tem um retorno.\n",
    "\n",
    "~~~fsharp\n",
    "let printSomeThing = //unit\n",
    "    printf \"some thing\"\n",
    "~~~\n",
    "\n",
    ">**Mas é possível indicar qual o tipo da variável?**  \n",
    "Sim, basta adicionar o operador `:` logo após o nome da variável.\n",
    "\n",
    "~~~fsharp\n",
    "let variable : int = 1\n",
    "~~~\n"
   ]
  },
  {
   "cell_type": "markdown",
   "metadata": {
    "tags": []
   },
   "source": [
    "#### *Usando a inferência*"
   ]
  },
  {
   "cell_type": "code",
   "execution_count": null,
   "metadata": {
    "dotnet_interactive": {
     "language": "fsharp"
    }
   },
   "outputs": [],
   "source": [
    "let intXambre = 1\n",
    "let boolXambre = true\n",
    "let stringXambre = \"xambre\"\n",
    "\n",
    "printf \"%s\" (intXambre.GetType().Name)\n",
    "printf \"%s\" (boolXambre.GetType().Name)\n",
    "printf \"%s\" (stringXambre.GetType().Name)"
   ]
  },
  {
   "cell_type": "markdown",
   "metadata": {},
   "source": [
    "#### *Declarando o tipo*"
   ]
  },
  {
   "cell_type": "code",
   "execution_count": null,
   "metadata": {
    "dotnet_interactive": {
     "language": "fsharp"
    }
   },
   "outputs": [],
   "source": [
    "let intXambre :int = 1\n",
    "let boolXambre : bool = true\n",
    "let stringXambre : string = \"xambre\"\n",
    "\n",
    "printf \"%s\" (intXambre.GetType().Name)\n",
    "printf \"%s\" (boolXambre.GetType().Name)\n",
    "printf \"%s\" (stringXambre.GetType().Name)"
   ]
  },
  {
   "cell_type": "markdown",
   "metadata": {
    "tags": []
   },
   "source": [
    "## `F` de `F`unção  \n",
    "Em `FSharp` as funções são de [primeira classe](https://developer.mozilla.org/en-US/docs/Glossary/First-class_Function), ou seja, podem ser utilizadas como parâmetro, como retorno ou até como valor.  \n"
   ]
  },
  {
   "cell_type": "markdown",
   "metadata": {
    "tags": []
   },
   "source": [
    "### A face de uma `F`unção \n",
    "(👁👃👁)\n",
    "\n",
    "___\n",
    "\n",
    "Existem basicamente dois tipos de declarações funções a `funções nomeadas` e as `funções anônimas`.  "
   ]
  },
  {
   "cell_type": "markdown",
   "metadata": {
    "tags": []
   },
   "source": [
    "#### Funções nomeadas  \n",
    "As funções nomeadas se utilizam da palavra chave `let`, o `nome` da função seguido dos parâmetros ou do operador `=` e por fim o `corpo da função`."
   ]
  },
  {
   "cell_type": "code",
   "execution_count": null,
   "metadata": {
    "dotnet_interactive": {
     "language": "fsharp"
    }
   },
   "outputs": [],
   "source": [
    "//int -> int -> int\n",
    "let sumXambres a b =\n",
    "    printf \"the a type is: %s \\n\" (a.GetType().Name)\n",
    "    printf \"the abtype is: %s\" (b.GetType().Name)\n",
    "    a + b\n",
    "\n",
    "sumXambres 1 2"
   ]
  },
  {
   "cell_type": "markdown",
   "metadata": {},
   "source": [
    "***Vamos entender a anatômia de uma função***\n",
    "\n",
    "💀 - ***A declaração***  \n",
    "A primeira linha é responsável pela assinatura de uma função nomeada, que consiste da palavra chave **`let`** o **`nome da função`** que segue o padrão [Camel Casing](https://en.wikipedia.org/wiki/Camel_case) e é seguido ou não pela por seus parâmetros.  \n",
    ">***Inferência de tipos***  \n",
    "A inferência em `FSharp` consegue saber, na maioria das vezes, qual é o tipo do parâmetro baseado em como aquele parâmetro é usado.  \n",
    "    No exemplo á cima os parâmetros `a` e `b` são somados e logo na utilização da função `sumXambres` são passados os valores **1** e **2** logo os parâmetros são do tipo `int` e retorno também.\n",
    "\n",
    "🦴 - ***O corpo***  \n",
    "O corpo pode ser composto de apenas uma linha, que ficar na frente da assinatura, ou pode ter varias linhas seguindo a [regra de identação](https://fsharpforfunandprofit.com/posts/fsharp-syntax/).  \n",
    "\n",
    "***Função de uma linha***"
   ]
  },
  {
   "cell_type": "code",
   "execution_count": null,
   "metadata": {
    "dotnet_interactive": {
     "language": "fsharp"
    }
   },
   "outputs": [],
   "source": [
    "//int -> int -> int\n",
    "let oneLineXambrado first second = first + second\n",
    "\n",
    "oneLineXambrado 3 4"
   ]
  },
  {
   "cell_type": "markdown",
   "metadata": {},
   "source": [
    "***Função de multiplas Linhas***"
   ]
  },
  {
   "cell_type": "code",
   "execution_count": null,
   "metadata": {
    "dotnet_interactive": {
     "language": "fsharp"
    }
   },
   "outputs": [],
   "source": [
    "// int -> string\n",
    "let multiplesLinesXambrado =           //─────⯈ assinatura \n",
    "    let addXambre a =                  //──┐\n",
    "        match a % 2 with               //  |\n",
    "        | 0 -> \"yes, is a xambre\"      //  |\n",
    "        | _ -> \"not, is not a xambre\"  //  ├──⯈ corpo\n",
    "                                       //  |\n",
    "    addXambre                          //──┘\n",
    "\n",
    "//int -> unit\n",
    "let isXambrado =                       //─────⯈ assinatura\n",
    "    multiplesLinesXambrado             //──┐\n",
    "    >> printf \"was xambrando? %s\"      //──┘──⯈ corpo\n",
    "\n",
    "1 |> isXambrado\n",
    "isXambrado 2"
   ]
  },
  {
   "cell_type": "markdown",
   "metadata": {},
   "source": [
    "Como uma linguagem pouco ruidosa `Fsharp` não usa `{}` para indicar o corpo das funções e sim identações, assim como em `python`. No caso abaixo temos uma função `multiplesLinesXambrado` que tem em seu corpo outra função `addXambre` por isso temos duas identações a primeira representada pelo ░ que representa o corpo da função `multiplesLinesXambrado` e a segunda ▒ que representa o corpo da função `addXambre`.\n",
    "~~~fsharp\n",
    "// int -> string\n",
    "let multiplesLinesXambrado =           //─────⯈ assinatura \n",
    "░░░░let addXambre a =                  //──┐\n",
    "░░░░▒▒▒▒match a % 2 with               //  |\n",
    "░░░░▒▒▒▒| 0 -> \"yes, is a xambre\"      //  |\n",
    "░░░░▒▒▒▒| _ -> \"not, is not a xambre\"  //  ├──⯈ corpo\n",
    "░░░░                                   //  |\n",
    "░░░░addXambre                          //──┘\n",
    "~~~\n",
    "\n",
    "> ***Ponto importante ⚠ :***  \n",
    "Não confunda `corpo da função` com `escopo léxico`, mesmo que o corpo de uma função seja um `escopo léxico` não significa que seja a única maneira de criar um escopo em `FSharp` então para facilitar vamos pensar apenas na estrutura da função neste momento."
   ]
  },
  {
   "cell_type": "markdown",
   "metadata": {},
   "source": [
    "### Assinatura\n",
    "A assinatura básicamente quais os parâmetros e retornos de uma função, podendo ser ilustrada como `'a -> 'b`. Essa nomenclatura é a mesma utilizada para ilustrar funções matemáticas e mostra que o conjunto `'a` está sendo `mapeado (->)` para o conjunto `'b`, vamos ver o mesmo exemplo utilizando tipos primitivos de `FSharp`:  \n",
    "\n",
    "***Com apenas um parâmetro***  \n",
    "```fsharp\n",
    "let addOne a = a + 1 \n",
    "```\n",
    "No caso à cima o temos o parâmetro a do tipo int que está sendo somado com 1, a+1, que então retorna o valor da expressão de soma que é do tipo int, por esse motivo a assinatura da função é `int -> int`.  \n",
    "\n",
    "***Com mais de um parâmetro***  \n",
    "```fsharp\n",
    "let multiply a b = a * b\n",
    "multiply 3 3\n",
    "```\n",
    "Nesse caso a função recebe dois parâmetros `a` e `b` ambos inteiros onde são multiplicados no corpo da função, retornando o resultado da expressão como um inteiro. Agora as coisas mudam um pouco pois temos 2 parâmetros e isso é representado da seguinte maneira `int -> int -> int`, ou seja, ***'a*** mapeia para ***'b*** e então mapeia para ***'c***, sendo ***'c*** o resultado da expressão. Essa tecnica se chama ***currying*** e é a técnica que transforma todos os parâmetros em uma cadeia de funções, mas não se preocupe isso vai ser explicada um pouco mais a baixo, o que necessário entender nesse momento é que sempre o último tipo da esquerda vai ser o retorno e os tipos que sobraram à esquerda são os parâmetros.\n",
    "\n",
    "***Um parâmetro só que 2***\n",
    "A mesma função pode ser escrita de uma outra forma usando uma outra estrutura de dados a tupla, veja como fica:  \n",
    "```fsharp\n",
    "let multiply (a,b) = a * b\n",
    "multiply (3,3)\n",
    "```\n",
    "Nesse caso temos uma `tupla` com dois inteiros e que retona um inteiro, podendo ser representado como `(int*int) -> int`"
   ]
  },
  {
   "cell_type": "markdown",
   "metadata": {},
   "source": [
    "### Escopo léxico ou estático\n",
    "Do latim leksikós, do inglês lexicon, do espanhol léxico, do alemão Lexikon ...\n",
    "\n",
    "---\n",
    "Escopo é a região onde uma variável ou função pode ser acessada, já o escopo léxico/estático diferente do escopo dinâmico utiliza a variável ou função no momento em que a função foi criada não no momento em que foi chamada.  \n",
    "vejá o exemplo à baixo:"
   ]
  },
  {
   "cell_type": "code",
   "execution_count": null,
   "metadata": {
    "dotnet_interactive": {
     "language": "fsharp"
    }
   },
   "outputs": [],
   "source": [
    "let sumFunction =                                    //───────────────────────────────────┐\n",
    "    let variable = 1                                  //────┐                            \n",
    "    let sumWithVariable param = param + variable      //──────⯈ Escopo da variable 1       \n",
    "    let variable = 2                                  //────┐                            ├──⯈ Escopo principal\n",
    "    sumWithVariable                                   //──────⯈ Escopo da variable 2       \n",
    "                                                      //────────────────────────────────┘\n",
    "\n",
    "sumFunction 3"
   ]
  },
  {
   "cell_type": "markdown",
   "metadata": {},
   "source": [
    "   No exemplo temos três escopos, o primeiro da função principal a `sumFunction` e engloba todo o corpo da função, o segundo escopo é criado assim que a variável `variable` é criada engloba a função `sumWithVariable` e termina assim que a variavel `variable` é criada novamente, por fim o terceiro escopo é a segunda vez em que a variavel `variable` é criada.  \n",
    "Se analisarmos os dois escopos internos vemos que no primeiro temos a variavel `variable` com o valor ***1*** e a criação de uma função `sumWithVariable` que recebe um parâmetro e soma com o valor da variável `variable`, já o segundo escopo tem a variável `variable` com o valor ***2*** e a chamada da função `sumWithVariable`. Qual o resultado da função `sumFunction`? Se você pensou em ***4*** você está correto, Fsharp se utiliza de escopos léxicos/estáticos dessa forma o valor da variável `variable` assim que a função `sumFunction` foi criada era ***1***.\n",
    "\n",
    "\n"
   ]
  },
  {
   "cell_type": "markdown",
   "metadata": {},
   "source": [
    "### Curriyng \n",
    "É de comer isso ?\n",
    "___\n",
    "Curriyng é básicamente uma técnica onde uma função de `n` parâmetros é transformada num encadeamentos de funções lambda `λ`, ou seja, tranforma isso `(a*b) -> c` para `a -> b -> c`. Sim isso é exatamente as assinaturas que foram apresentadas até agora, então isso significa que todas as funções de multiplos parâmetros são curriyng por padrão em FSharp.  \n",
    "Mas o que isso significa na prática? Utilizar curriyng facilita a composição de funções e também possibilita a aplicação parcial de funções complexas.\n"
   ]
  },
  {
   "cell_type": "code",
   "execution_count": null,
   "metadata": {},
   "outputs": [],
   "source": [
    "// decimal -> decimal -> decimal\n",
    "let applyDiscount percentage value = \n",
    "     percentage / 100M * value + value\n",
    "\n",
    "// decimal -> decimal\n",
    "let apply5OffTo = applyDiscount -5M\n",
    "\n",
    "apply5OffTo 100M\n",
    "|> printf \"The final price is %f\""
   ]
  },
  {
   "cell_type": "markdown",
   "metadata": {},
   "source": [
    "No exemplo a cima temos a função applyDiscount que recebe dois parâmetros, percentage e value, no corpo da função é feita uma conta simples de porcentagem. Logo a baixo temos a função apply5OffTo que recebe o resultado applyDiscount com apenas um valor -5M, o que temos nesse caso é que a função applyDicount foi parcialmente aplicada e retornou uma nova função que já tinha o valor do parâmentro percentage aplicado em seu escopo.  \n",
    "\n",
    "Fica mais fácil se pensar que por baixo dos panos algo parecido com isso é feito.\n",
    "```fsharp\n",
    "// decimal -> decimal -> decimal\n",
    "let applyDiscount percentage =\n",
    "     let innerApplyDiscount value =   \n",
    "         percentage / 100M * value + value\n",
    "     innerApplyDiscount\n",
    "\n",
    "```\n",
    ">Ponto importante ⚠ :  \n",
    "Não significa que o compilador realmente cria um encadeamento de funções, na verdade o compilidador do `FSharp` segue uma estratégia um pouco diferente. Basicamente o compilador \"***copia***\" o corpo da função pricipal e \"***Cola***\" na função secundária, na verdade o compilador cria duas classes onde a classe secundária tem como parâmetro do construtor o primeiro parâmentro da função secundária e no metodo `invoke` temos o segundo parâmetro.\n",
    "No exemplo anterior teriamos algo como:\n",
    "\n",
    "```csharp\n",
    "    internal sealed class apply5OffTo : FSharpFunc<decimal, decimal>\n",
    "    {\n",
    "        public decimal percentage;\n",
    "\n",
    " \n",
    "        internal apply5OffTo(decimal percentage)\n",
    "        {\n",
    "            this.percentage = percentage;\n",
    "        }\n",
    "\n",
    "        public override decimal Invoke(decimal value)\n",
    "        {\n",
    "            return percentage / 100m * value + value;\n",
    "        }\n",
    "    }\n",
    "```"
   ]
  },
  {
   "cell_type": "code",
   "execution_count": null,
   "metadata": {},
   "outputs": [],
   "source": [
    "let applyDiscount percentage value = \n",
    "     percentage / 100M * value + value\n",
    "\n",
    "let (%) = applyDiscount\n",
    "-5M % 100M"
   ]
  },
  {
   "cell_type": "markdown",
   "metadata": {
    "tags": [],
    "toc-hr-collapsed": true
   },
   "source": [
    "## Cadê as Classes?  \n",
    "Estrutura de dados"
   ]
  },
  {
   "cell_type": "markdown",
   "metadata": {
    "tags": []
   },
   "source": [
    "## Intero... Inter... Funciona com `.Net`"
   ]
  },
  {
   "cell_type": "markdown",
   "metadata": {},
   "source": [
    "\n",
    "[1]: https://wiki.haskell.org/Algebraic_data_type\n",
    "[2]: https://docs.microsoft.com/en-us/dotnet/fsharp/what-is-fsharp\n",
    "[3]: https://en.wikipedia.org/wiki/F_Sharp_(programming_language)\n",
    "[4]: https://developer.mozilla.org/en-US/docs/Glossary/First-class_Function\n",
    "[5]: https://coders-corner.net/2013/11/12/lexical-scope-vs-dynamic-scope/\n",
    "[6]: https://en.wikipedia.org/wiki/Common_Intermediate_Language"
   ]
  }
 ],
 "metadata": {
  "kernelspec": {
   "display_name": ".NET (F#)",
   "language": "F#",
   "name": ".net-fsharp"
  },
  "language_info": {
   "file_extension": ".fs",
   "mimetype": "text/x-fsharp",
   "name": "F#",
   "pygments_lexer": "fsharp",
   "version": "5.0"
  }
 },
 "nbformat": 4,
 "nbformat_minor": 4
}
